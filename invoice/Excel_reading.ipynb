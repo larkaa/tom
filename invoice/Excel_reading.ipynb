{
 "cells": [
  {
   "cell_type": "code",
   "execution_count": 10,
   "metadata": {},
   "outputs": [],
   "source": [
    "#try reading an excel file\n",
    "import pandas as pd\n",
    "from openpyxl import load_workbook\n",
    "\n",
    "\n",
    "file = 'Factures indépendant.xlsx'\n",
    "xl = load_workbook(file)\n",
    "#sheet_names = xl.sheetnames\n",
    "#name = sheet_names[0]\n",
    "#sheet_ranges = xl[name]\n",
    "#df = pd.DataFrame(sheet_ranges.values)\n",
    "#print(df)"
   ]
  },
  {
   "cell_type": "code",
   "execution_count": 11,
   "metadata": {},
   "outputs": [],
   "source": [
    "# find first empty row after row 10\n",
    "# since there are a few empty rows at the beginning...\n",
    "\n",
    "ws = xl.worksheets[0]\n",
    "cell_list = []\n",
    "\n",
    "for cell in ws[\"C\"]:\n",
    "    if cell.value is None:\n",
    "        cell_list.append(cell.row)\n",
    "\n",
    "cell_list2 = [i for i in cell_list if i>=10]\n",
    "first_row = cell_list2[0]\n",
    "#print(first_cell)\n"
   ]
  },
  {
   "cell_type": "code",
   "execution_count": 43,
   "metadata": {},
   "outputs": [
    {
     "name": "stdout",
     "output_type": "stream",
     "text": [
      "(1811111, 'ALTO test', 500, 0, '=SUM(C36:D36)', '=E36/5', '=SUM(E36:F36)', 'QVC')\n"
     ]
    }
   ],
   "source": [
    "#print(sheet_ranges.max_row)\n",
    "\n",
    "from copy import copy\n",
    "from openpyxl.utils import get_column_letter\n",
    "import re\n",
    "\n",
    "# values to add to the excel file\n",
    "#N° facture\tClient\tHT\tFrais\tTotal HT\tTVA\tTTC\tMission\n",
    "\n",
    "n_fact = 1811111\n",
    "client = \"ALTO test\"\n",
    "ht = 500\n",
    "frais = 0\n",
    "\n",
    "# for totalht tva and ttc\n",
    "# create the formula directly\n",
    "# using this function\n",
    "\n",
    "\n",
    "def xlref(row, column, zero_indexed=True):\n",
    "    if zero_indexed:\n",
    "        row += 1\n",
    "        column += 1\n",
    "    return get_column_letter(column) + str(row)\n",
    "\n",
    "# OR use regular expression to increment all numbers by 1\n",
    "#re.sub('\\d+',lambda x:str(int(x.group())+1),test_text)\n",
    "\n",
    "#=SUM(C35:D35)\n",
    "totht = \"=SUM(\" + xlref(first_row, 3, False) + \":\" + xlref(first_row, 4, False) + \")\"\n",
    "#=E35/5\n",
    "tva = \"=\" + xlref(first_row, 5, False) + \"/5\"\n",
    "#=SUM(E35:F35)\n",
    "ttc = \"=SUM(\" + xlref(first_row, 5, False) + \":\" + xlref(first_row, 6, False) + \")\"\n",
    "mission = 'QVC'\n",
    "\n",
    "\n",
    "newdf = (n_fact, client, ht, frais, totht, tva, ttc,mission)\n",
    "print(newdf)\n",
    "\n",
    "for i,value in enumerate(newdf):\n",
    "    #print(i, value) \n",
    "    ws.cell(column=i+1, row=first_row, value=value)\n",
    "    ws.cell(column=i+1, row=first_row)._style = copy(ws.cell(column=i+1, row=(first_row-2)))._style\n",
    "\n",
    "#ws.cell(column=8, row=first_row, value=\"QVC\")   \n",
    "    \n",
    "\n",
    "#print(pd.DataFrame(ws.values))\n",
    "#print(first_row)\n",
    "newfile = 'test2.xlsx'\n",
    "\n",
    "test_text = \"=SUM(E36:F36)\"\n",
    "\n",
    "#res = re.sub('\\d+',lambda x:str(int(x.group())+1),test_text)\n",
    "#print(res)\n",
    "#print(test_text.group())\n",
    "xl.save(newfile)\n"
   ]
  },
  {
   "cell_type": "code",
   "execution_count": null,
   "metadata": {},
   "outputs": [],
   "source": []
  },
  {
   "cell_type": "code",
   "execution_count": null,
   "metadata": {},
   "outputs": [],
   "source": []
  }
 ],
 "metadata": {
  "kernelspec": {
   "display_name": "Python 3",
   "language": "python",
   "name": "python3"
  },
  "language_info": {
   "codemirror_mode": {
    "name": "ipython",
    "version": 3
   },
   "file_extension": ".py",
   "mimetype": "text/x-python",
   "name": "python",
   "nbconvert_exporter": "python",
   "pygments_lexer": "ipython3",
   "version": "3.6.8"
  }
 },
 "nbformat": 4,
 "nbformat_minor": 2
}
